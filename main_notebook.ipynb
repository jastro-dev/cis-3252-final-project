{
 "cells": [
  {
   "cell_type": "code",
   "execution_count": null,
   "metadata": {},
   "outputs": [],
   "source": [
    "import pandas as pd\n",
    "import numpy as np\n",
    "import seaborn as sns\n",
    "import matplotlib.pyplot as plt"
   ]
  },
  {
   "cell_type": "code",
   "execution_count": null,
   "metadata": {},
   "outputs": [],
   "source": [
    "df = pd.read_csv('heart_data.csv')"
   ]
  },
  {
   "cell_type": "code",
   "execution_count": null,
   "metadata": {},
   "outputs": [],
   "source": [
    "df.head()"
   ]
  },
  {
   "cell_type": "code",
   "execution_count": null,
   "metadata": {},
   "outputs": [],
   "source": [
    "df.info()"
   ]
  },
  {
   "cell_type": "markdown",
   "metadata": {},
   "source": [
    "## Data Taxonomy and Variable Nature\n",
    "- age: (int64), **ratio** because it is numerical and has a natural 0 value\n",
    "- gender: (int64), **nominal** because it is categorical and does not have a natural order\n",
    "- height: (int64), **ratio** because it is numerical and has a natural 0 value\n",
    "- weight: (float64), **ratio** because it is numerical and has a natural 0 value\n",
    "- ap_hi: (int64), **ratio** because it is numerical and has a natural 0 value\n",
    "- ap_lo: (int64), **ratio** because it is numerical and has a natural 0 value\n",
    "- cholesterol: (int64), **ratio** because it is numerical and has a natural 0 value\n",
    "- gluc: (int64), **ratio** because it is numerical and has a natural 0 value\n",
    "- smoke: (int64), **nominal** because it is categorical and does not have a natural order\n",
    "- alco: (int64), **nominal** because it is categorical and does not have a natural order\n",
    "- active: (int64), **nominal** because it is categorical and does not have a natural order\n",
    "- cardio: (int64), **nominal** because it is categorical and does not have a natural order"
   ]
  },
  {
   "cell_type": "code",
   "execution_count": null,
   "metadata": {},
   "outputs": [],
   "source": [
    "df.describe()"
   ]
  },
  {
   "cell_type": "code",
   "execution_count": null,
   "metadata": {},
   "outputs": [],
   "source": [
    "for col in df.columns:\n",
    "    print(df[col].value_counts())"
   ]
  },
  {
   "cell_type": "code",
   "execution_count": null,
   "metadata": {},
   "outputs": [],
   "source": [
    "df.isnull().sum()"
   ]
  },
  {
   "cell_type": "markdown",
   "metadata": {},
   "source": [
    "# Data Cleaning: Remove Unnecessary Columns"
   ]
  },
  {
   "cell_type": "code",
   "execution_count": null,
   "metadata": {},
   "outputs": [],
   "source": [
    "df.drop(['index', 'id'], axis=1, inplace=True)"
   ]
  },
  {
   "cell_type": "markdown",
   "metadata": {},
   "source": [
    "# Data Wrangling: Change Age from Days to Years"
   ]
  },
  {
   "cell_type": "code",
   "execution_count": null,
   "metadata": {},
   "outputs": [],
   "source": [
    "df['age'] = df['age'] / 365"
   ]
  },
  {
   "cell_type": "markdown",
   "metadata": {},
   "source": [
    "# Data Aggregation: Numerical Columns by Gender"
   ]
  },
  {
   "cell_type": "code",
   "execution_count": null,
   "metadata": {},
   "outputs": [],
   "source": [
    "# Copy df and map 1,2 to male,female\n",
    "df_by_gender = df.copy()\n",
    "\n",
    "df_by_gender['gender'] = df_by_gender['gender'].map({1:'Male',2:'Female'})"
   ]
  },
  {
   "cell_type": "code",
   "execution_count": null,
   "metadata": {},
   "outputs": [],
   "source": [
    "# Group by gender\n",
    "df_by_gender = df_by_gender.groupby(['gender'])"
   ]
  },
  {
   "cell_type": "code",
   "execution_count": null,
   "metadata": {},
   "outputs": [],
   "source": [
    "# Apply aggregate function for rounded mean of numerical columns\n",
    "def mean_round(x):\n",
    "    return round(x.mean(), 2)\n",
    "\n",
    "df_by_gender[['age', 'height', 'weight', 'ap_hi', 'ap_lo', 'cholesterol', 'gluc']].apply(mean_round)"
   ]
  },
  {
   "cell_type": "markdown",
   "metadata": {},
   "source": [
    "# Data Visualization: 5 Visualizations"
   ]
  },
  {
   "cell_type": "code",
   "execution_count": null,
   "metadata": {},
   "outputs": [],
   "source": [
    "# Set color palette for visualizations\n",
    "sns.set_palette('Set2')"
   ]
  },
  {
   "cell_type": "markdown",
   "metadata": {},
   "source": [
    "## Visualization 1: Bar Chart - Entries per Gender"
   ]
  },
  {
   "cell_type": "code",
   "execution_count": null,
   "metadata": {},
   "outputs": [],
   "source": [
    "# Plot to show difference in entries per gender\n",
    "df_by_gender['gender'].value_counts().plot(kind='bar', title='Gender Distribution', xlabel='Gender', ylabel='Count', figsize=(10, 7))\n",
    "\n",
    "# Rename x-ticks to Title case (from female, male to Female, Male)\n",
    "plt.xticks([0, 1], ['Female', 'Male'])\n",
    "\n",
    "# Reset rotation to horizontal, readable format\n",
    "plt.xticks(rotation=0)\n",
    "\n",
    "# Change y-axis ticks to be comma-separated for readability\n",
    "plt.yticks([0, 10000, 20000, 30000, 40000, 50000], ['0', '10,000', '20,000', '30,000', '40,000', '50,000'])\n",
    "\n",
    "plt.tight_layout()\n",
    "sns.despine()\n",
    "plt.show()"
   ]
  },
  {
   "cell_type": "markdown",
   "metadata": {},
   "source": [
    "## Visualization 2: Box Plot - Age per Gender"
   ]
  },
  {
   "cell_type": "code",
   "execution_count": null,
   "metadata": {},
   "outputs": [],
   "source": [
    "# Box plot of age per gender\n",
    "plt.figure(figsize=(10, 10))\n",
    "sns.boxplot(x='gender', y='age', data=df, palette='Set2')\n",
    "\n",
    "# Rename x-ticks to gender names\n",
    "plt.xticks([0, 1], ['Male', 'Female'])\n",
    "\n",
    "# Add axes labels\n",
    "plt.xlabel('Gender')\n",
    "plt.ylabel('Age (in years)')\n",
    "\n",
    "# Change range of y-axis\n",
    "plt.ylim(20, 80)\n",
    "\n",
    "# Add more ticks between y-axis\n",
    "plt.yticks([20, 25, 30, 35, 40, 45, 50, 55, 60, 65, 70, 75, 80])\n",
    "\n",
    "plt.tight_layout()\n",
    "sns.despine()\n",
    "plt.show()"
   ]
  },
  {
   "cell_type": "markdown",
   "metadata": {},
   "source": [
    "## Visualization 3: Histogram - Numerical Columns"
   ]
  },
  {
   "cell_type": "code",
   "execution_count": null,
   "metadata": {},
   "outputs": [],
   "source": [
    "# List of numerical columns\n",
    "columns = ['age', 'height', 'weight', 'ap_hi', 'ap_lo', 'cholesterol', 'gluc']\n",
    "\n",
    "# Create histograms from list\n",
    "df[columns].hist(bins=15, figsize=(15, 10))\n",
    "plt.tight_layout()\n",
    "sns.despine()\n",
    "plt.show()"
   ]
  },
  {
   "cell_type": "markdown",
   "metadata": {},
   "source": [
    "## Visualization 4: Scatter Plot - Cholesterol vs Glucose"
   ]
  },
  {
   "cell_type": "markdown",
   "metadata": {},
   "source": [
    "## Visualization 5: Bar Chart - Average Health Metrics Between Present vs Non-Present Cardiovascular Disease"
   ]
  }
 ],
 "metadata": {
  "kernelspec": {
   "display_name": "myenv",
   "language": "python",
   "name": "python3"
  },
  "language_info": {
   "codemirror_mode": {
    "name": "ipython",
    "version": 3
   },
   "file_extension": ".py",
   "mimetype": "text/x-python",
   "name": "python",
   "nbconvert_exporter": "python",
   "pygments_lexer": "ipython3",
   "version": "3.12.7"
  }
 },
 "nbformat": 4,
 "nbformat_minor": 2
}
