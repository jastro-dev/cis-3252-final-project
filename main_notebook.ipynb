{
 "cells": [
  {
   "cell_type": "markdown",
   "metadata": {},
   "source": [
    "# CIS 3252.04 - Final Project - Cardiovascular Heart Disease\n",
    "## by Jeremy Castro\n",
    "### Dataset: [https://www.kaggle.com/datasets/thedevastator/exploring-risk-factors-for-cardiovascular-diseas](https://www.kaggle.com/datasets/thedevastator/exploring-risk-factors-for-cardiovascular-diseas)"
   ]
  },
  {
   "cell_type": "code",
   "execution_count": null,
   "metadata": {},
   "outputs": [],
   "source": [
    "import pandas as pd\n",
    "import numpy as np\n",
    "import seaborn as sns\n",
    "import matplotlib.pyplot as plt"
   ]
  },
  {
   "cell_type": "code",
   "execution_count": null,
   "metadata": {},
   "outputs": [],
   "source": [
    "df = pd.read_csv('heart_data.csv')"
   ]
  },
  {
   "cell_type": "code",
   "execution_count": null,
   "metadata": {},
   "outputs": [],
   "source": [
    "df.head()"
   ]
  },
  {
   "cell_type": "code",
   "execution_count": null,
   "metadata": {},
   "outputs": [],
   "source": [
    "df.info()"
   ]
  },
  {
   "cell_type": "markdown",
   "metadata": {},
   "source": [
    "## Data Taxonomy and Variable Nature\n",
    "- age: (int64), **ratio** because it is numerical and has a natural 0 value\n",
    "- gender: (int64), **nominal** because it is categorical and does not have a natural order\n",
    "- height: (int64), **ratio** because it is numerical and has a natural 0 value\n",
    "- weight: (float64), **ratio** because it is numerical and has a natural 0 value\n",
    "- ap_hi: (int64), **ratio** because it is numerical and has a natural 0 value\n",
    "- ap_lo: (int64), **ratio** because it is numerical and has a natural 0 value\n",
    "- cholesterol: (int64), **ratio** because it is numerical and has a natural 0 value\n",
    "- gluc: (int64), **ratio** because it is numerical and has a natural 0 value\n",
    "- smoke: (int64), **nominal** because it is categorical and does not have a natural order\n",
    "- alco: (int64), **nominal** because it is categorical and does not have a natural order\n",
    "- active: (int64), **nominal** because it is categorical and does not have a natural order\n",
    "- cardio: (int64), **nominal** because it is categorical and does not have a natural order"
   ]
  },
  {
   "cell_type": "code",
   "execution_count": null,
   "metadata": {},
   "outputs": [],
   "source": [
    "df.describe()"
   ]
  },
  {
   "cell_type": "code",
   "execution_count": null,
   "metadata": {},
   "outputs": [],
   "source": [
    "for col in df.columns:\n",
    "    print(df[col].value_counts())"
   ]
  },
  {
   "cell_type": "code",
   "execution_count": null,
   "metadata": {},
   "outputs": [],
   "source": [
    "df.isnull().sum()"
   ]
  },
  {
   "cell_type": "markdown",
   "metadata": {},
   "source": [
    "# Data Cleaning: Remove Unnecessary Columns"
   ]
  },
  {
   "cell_type": "code",
   "execution_count": null,
   "metadata": {},
   "outputs": [],
   "source": [
    "df.drop(['index', 'id'], axis=1, inplace=True)"
   ]
  },
  {
   "cell_type": "markdown",
   "metadata": {},
   "source": [
    "# Data Cleaning: Clean `ap_hi` and `ap_lo`"
   ]
  },
  {
   "cell_type": "code",
   "execution_count": null,
   "metadata": {},
   "outputs": [],
   "source": [
    "# Print value counts high end\n",
    "df['ap_hi'].value_counts().sort_index(ascending=False).head(60)"
   ]
  },
  {
   "cell_type": "code",
   "execution_count": null,
   "metadata": {},
   "outputs": [],
   "source": [
    "# Print value counts low end\n",
    "df['ap_hi'].value_counts().sort_index(ascending=False).tail(20)"
   ]
  },
  {
   "cell_type": "code",
   "execution_count": null,
   "metadata": {},
   "outputs": [],
   "source": [
    "# Print value counts high end\n",
    "df['ap_lo'].value_counts().sort_index(ascending=False).head(60)"
   ]
  },
  {
   "cell_type": "code",
   "execution_count": null,
   "metadata": {},
   "outputs": [],
   "source": [
    "# Print value counts low end\n",
    "df['ap_lo'].value_counts().sort_index(ascending=False).tail(20)"
   ]
  },
  {
   "cell_type": "code",
   "execution_count": null,
   "metadata": {},
   "outputs": [],
   "source": [
    "# Drop rows containing ap_hi or ap_lo outside range of 0 to 300\n",
    "df = df[(df['ap_hi'] > 0) & (df['ap_hi'] <= 300)]\n",
    "df = df[(df['ap_lo'] > 0) & (df['ap_lo'] <= 300)]"
   ]
  },
  {
   "cell_type": "code",
   "execution_count": null,
   "metadata": {},
   "outputs": [],
   "source": [
    "# Verify data\n",
    "df[['ap_hi', 'ap_lo']].describe()"
   ]
  },
  {
   "cell_type": "markdown",
   "metadata": {},
   "source": [
    "# Data Wrangling: Change Age from Days to Years"
   ]
  },
  {
   "cell_type": "code",
   "execution_count": null,
   "metadata": {},
   "outputs": [],
   "source": [
    "df['age'] = df['age'] / 365"
   ]
  },
  {
   "cell_type": "markdown",
   "metadata": {},
   "source": [
    "# Data Aggregation: Numerical Columns by Gender"
   ]
  },
  {
   "cell_type": "code",
   "execution_count": null,
   "metadata": {},
   "outputs": [],
   "source": [
    "# Copy df and map 1,2 to male,female\n",
    "df_by_gender = df.copy()\n",
    "\n",
    "df_by_gender['gender'] = df_by_gender['gender'].map({1: 'Male', 2: 'Female'})"
   ]
  },
  {
   "cell_type": "code",
   "execution_count": null,
   "metadata": {},
   "outputs": [],
   "source": [
    "# Group by gender\n",
    "df_by_gender = df_by_gender.groupby(['gender'])"
   ]
  },
  {
   "cell_type": "code",
   "execution_count": null,
   "metadata": {},
   "outputs": [],
   "source": [
    "# Apply aggregate function for rounded mean of numerical columns\n",
    "def mean_round(x):\n",
    "    return round(x.mean(), 2)\n",
    "\n",
    "df_by_gender[['age', 'height', 'weight', 'ap_hi', 'ap_lo', 'cholesterol', 'gluc']].apply(mean_round)"
   ]
  },
  {
   "cell_type": "markdown",
   "metadata": {},
   "source": [
    "# Data Visualization: 5 Visualizations"
   ]
  },
  {
   "cell_type": "code",
   "execution_count": null,
   "metadata": {},
   "outputs": [],
   "source": [
    "# Set color palette for visualizations\n",
    "sns.set_palette('Set2')"
   ]
  },
  {
   "cell_type": "markdown",
   "metadata": {},
   "source": [
    "## Visualization 1: Bar Chart - Entries per Gender"
   ]
  },
  {
   "cell_type": "code",
   "execution_count": null,
   "metadata": {},
   "outputs": [],
   "source": [
    "# Plot to show difference in entries per gender\n",
    "df_by_gender['gender'].value_counts().plot(\n",
    "    kind='bar', title='Gender Distribution', xlabel='Gender', ylabel='Count', figsize=(10, 7)\n",
    ")\n",
    "\n",
    "# Rename x-ticks to Title case (from female, male to Female, Male)\n",
    "plt.xticks([0, 1], ['Female', 'Male'])\n",
    "\n",
    "# Reset rotation to horizontal, readable format\n",
    "plt.xticks(rotation=0)\n",
    "\n",
    "# Change y-axis ticks to be comma-separated for readability\n",
    "plt.yticks([0, 10000, 20000, 30000, 40000, 50000], ['0', '10,000', '20,000', '30,000', '40,000', '50,000'])\n",
    "\n",
    "plt.tight_layout()\n",
    "sns.despine()\n",
    "plt.show()"
   ]
  },
  {
   "cell_type": "markdown",
   "metadata": {},
   "source": [
    "### Meaning and Insights from Visualization 1\n",
    "From this visualization, we can gather that there is a biased distribution in the dataset towards the male population. This could be insightful if we were to head towards predictive modeling as our data could be slightly biased. It also shows that our dataset contains limitations, which would be the under-representation of females, possibly affecting results and further insights."
   ]
  },
  {
   "cell_type": "markdown",
   "metadata": {},
   "source": [
    "## Visualization 2: Box Plot - Age per Gender"
   ]
  },
  {
   "cell_type": "code",
   "execution_count": null,
   "metadata": {},
   "outputs": [],
   "source": [
    "# Box plot of age per gender\n",
    "plt.figure(figsize=(10, 10))\n",
    "sns.boxplot(x='gender', y='age', data=df, palette='Set2')\n",
    "\n",
    "# Rename x-ticks to gender names\n",
    "plt.xticks([0, 1], ['Male', 'Female'])\n",
    "\n",
    "# Add axes labels\n",
    "plt.xlabel('Gender')\n",
    "plt.ylabel('Age (in years)')\n",
    "\n",
    "# Change range of y-axis\n",
    "plt.ylim(20, 80)\n",
    "\n",
    "# Add more ticks between y-axis\n",
    "plt.yticks([20, 25, 30, 35, 40, 45, 50, 55, 60, 65, 70, 75, 80])\n",
    "\n",
    "plt.tight_layout()\n",
    "sns.despine()\n",
    "plt.show()"
   ]
  },
  {
   "cell_type": "markdown",
   "metadata": {},
   "source": [
    "### Meaning and Insights from Visualization 2\n",
    "From this visualization, we can gather that the range and statistics of both male and female patients are relatively similar. This gives us a good indicator that the age range representation will be consistent between both genders, and that there are no biases in terms of age within this dataset."
   ]
  },
  {
   "cell_type": "markdown",
   "metadata": {},
   "source": [
    "## Visualization 3: Histogram - Numerical Columns"
   ]
  },
  {
   "cell_type": "code",
   "execution_count": null,
   "metadata": {},
   "outputs": [],
   "source": [
    "fig, axes = plt.subplots(3, 1, figsize=(15, 10))\n",
    "\n",
    "axes[0].hist(df['age'], bins=15)\n",
    "axes[0].set_title('Age Distribution')\n",
    "axes[0].set_xlabel('Age (in years)')\n",
    "axes[0].set_ylabel('Count')\n",
    "axes[0].set_yticks([0, 2000, 4000, 6000, 8000], ['0', '2,000', '4,000', '6,000', '8,000'])\n",
    "\n",
    "axes[1].hist(df['height'], bins=30)\n",
    "axes[1].set_title('Height Distribution')\n",
    "axes[1].set_xlabel('Height (in cm)')\n",
    "# axes[1].set_ylabel('Count')\n",
    "axes[1].set_yticks([0, 5000, 10000, 15000, 20000], ['0', '5,000', '10,000', '15,000', '20,000'])\n",
    "\n",
    "axes[2].hist(df['weight'], bins=30)\n",
    "axes[2].set_title('Weight Distribution')\n",
    "axes[2].set_xlabel('Weight (in kg)')\n",
    "# axes[1].set_ylabel('Count')\n",
    "axes[2].set_yticks(\n",
    "    [0, 2500, 5000, 7500, 10000, 12500, 15000], ['0', '2,500', '5,000', '7,500', '10,000', '12,500', '15,000']\n",
    ")\n",
    "\n",
    "plt.tight_layout()\n",
    "sns.despine()\n",
    "plt.show()"
   ]
  },
  {
   "cell_type": "markdown",
   "metadata": {},
   "source": [
    "### Meaning and Insights from Visualization 3\n",
    "From this visualization, we can gather that age is a left-skewed distribution, with more higher-aged individuals being represented within this dataset. We can also see that a majority of this dataset is within average height, as well as within a regular weight range according to the weight distribution."
   ]
  },
  {
   "cell_type": "markdown",
   "metadata": {},
   "source": [
    "## Visualization 4: Box Plot - Blood Pressure in Cardiovascular Disease vs Healthy"
   ]
  },
  {
   "cell_type": "code",
   "execution_count": null,
   "metadata": {},
   "outputs": [],
   "source": [
    "fig, axes = plt.subplots(2, 1, figsize=(15, 10))\n",
    "\n",
    "sns.boxplot(x='cardio', y='ap_hi', data=df, ax=axes[0], hue='cardio', legend=False)\n",
    "axes[0].set_title('Systolic Blood Pressure (ap_hi) per Cardoiovascular Disease Presence')\n",
    "axes\n",
    "\n",
    "\n",
    "sns.boxplot(x='cardio', y='ap_lo', data=df, ax=axes[1], hue='cardio', legend=False)\n",
    "axes[1].set_title('Diastolic Blood Pressure (ap_lo) per Cardoiovascular Disease Presence')\n",
    "\n",
    "for ax in axes:\n",
    "    ax.set_ylabel('Blood Pressure (in mmHg)')\n",
    "    ax.set_xlabel('Cardiovascular Disease')\n",
    "    ax.set_xticks([0, 1], ['No', 'Yes'])\n",
    "\n",
    "plt.tight_layout()\n",
    "sns.despine()\n",
    "plt.show()"
   ]
  },
  {
   "cell_type": "markdown",
   "metadata": {},
   "source": [
    "### Meaning and Insights from Visualization 4\n",
    "From this visualization, we can gather that cases in which cardiovascular disease is present exhibit a higher overall average blood pressure (both systolic and diastolic), possibly confirming the claim that a higher blood pressure contributes to cardiovascular disease risk. There is also a higher IQR, indicating that there are more cases in which a higher systolic blood pressure is present for cardiovascular disease cases."
   ]
  },
  {
   "cell_type": "markdown",
   "metadata": {},
   "source": [
    "## Visualization 5: Bar Chart - Average Health Metrics Between Present vs Non-Present Cardiovascular Disease"
   ]
  },
  {
   "cell_type": "code",
   "execution_count": null,
   "metadata": {},
   "outputs": [],
   "source": [
    "# Group cardiovascular disease presence\n",
    "df_by_cardio = df.groupby('cardio')\n",
    "\n",
    "df_by_cardio.mean().head()"
   ]
  },
  {
   "cell_type": "code",
   "execution_count": null,
   "metadata": {},
   "outputs": [],
   "source": [
    "# Target columns\n",
    "numerical_columns = ['age', 'height', 'weight', 'ap_hi', 'ap_lo', 'cholesterol', 'gluc']\n",
    "\n",
    "fig, axes = plt.subplots(4, 2, figsize=(15, 20))\n",
    "\n",
    "# Iterate on columns and generate plot for each\n",
    "for i in range(0, len(numerical_columns)):\n",
    "    ax_current = axes[i // 2, i % 2]\n",
    "    # Plot bar plot with cardio as hue\n",
    "    sns.barplot(x='cardio', y=numerical_columns[i], hue='cardio', legend=False, data=df_by_cardio.mean(), ax=ax_current)\n",
    "    # Clean up y label\n",
    "    ax_current.set_ylabel(numerical_columns[i].title())\n",
    "    # Clean up x label\n",
    "    ax_current.set_xlabel('Cardiovascular Disease')\n",
    "    # Clean up x ticks\n",
    "    ax_current.set_xticks([0, 1], ['No', 'Yes'])\n",
    "\n",
    "plt.tight_layout()\n",
    "sns.despine()\n",
    "plt.show()"
   ]
  },
  {
   "cell_type": "markdown",
   "metadata": {},
   "source": [
    "### Meaning and Insights from Visualization 5\n",
    "From this visualization, we can gather that cardiovascular disease is generally associated with higher health metrics, at least within the metrics provided (i.e. blood pressure, cholesterol, glucose levels). There is also indication that cardiovascular disease is associated with higher overall average weight and age, possibly indicating that these are contributing factors as well towards higher risk levels of cardiovascular disease."
   ]
  },
  {
   "cell_type": "markdown",
   "metadata": {},
   "source": [
    "# Findings & Conclusion\n",
    "\n",
    "## Summary\n",
    "Overall, we can see that the dataset provided exhibits a good representation of the population, although there is an inherent bias towards more male entries than female. We found that overall blood pressure is higher within CVD-present cases. We also found that even metrics such as age and weight are generally higher within cardiovascular disease cases. Overall, patients with higher metrics of blood pressure, cholesterol, and glucose levels should be prioritized in preventing possible cardiovascular disease risk.\n",
    "\n",
    "## Four Takeaways or Insights\n",
    "1. Cardiovascular disease risk factors are consistent across genders, as both display similar distributions of health metrics\n",
    "2. Age distribution shows that older populations are more at risk for cardiovascular disease\n",
    "3. Higher levels of blood pressure, cholesterol, and glucose are associated with confirmed cases of cardiovascular disease\n",
    "4. Weight can be a targetable risk factor that could potentially lower risk of cardiovascular disease if lowered within at-risk individuals"
   ]
  }
 ],
 "metadata": {
  "kernelspec": {
   "display_name": "myenv",
   "language": "python",
   "name": "python3"
  },
  "language_info": {
   "codemirror_mode": {
    "name": "ipython",
    "version": 3
   },
   "file_extension": ".py",
   "mimetype": "text/x-python",
   "name": "python",
   "nbconvert_exporter": "python",
   "pygments_lexer": "ipython3",
   "version": "3.12.7"
  }
 },
 "nbformat": 4,
 "nbformat_minor": 2
}
